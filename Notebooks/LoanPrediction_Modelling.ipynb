{
  "nbformat": 4,
  "nbformat_minor": 0,
  "metadata": {
    "colab": {
      "name": "LoanPrediction_Modelling.ipynb",
      "provenance": [],
      "collapsed_sections": []
    },
    "kernelspec": {
      "name": "python3",
      "display_name": "Python 3"
    },
    "language_info": {
      "name": "python"
    }
  },
  "cells": [
    {
      "cell_type": "markdown",
      "metadata": {
        "id": "O0jDE-ojxKH6"
      },
      "source": [
        "# **Loan Prediction**"
      ]
    },
    {
      "cell_type": "markdown",
      "metadata": {
        "id": "4Ee10GvtxHa1"
      },
      "source": [
        "The aim of this project is to predict real-estate prices using the machine learning algorithms: Logistic Regression, Decision tree Classifier, Random Forest Classifier. The three of them will show different results for the accuracy."
      ]
    },
    {
      "cell_type": "markdown",
      "metadata": {
        "id": "SYGxXdy5rD7m"
      },
      "source": [
        "# **Loading the data**\n",
        "In the previous phase - Provisioning, data collection, data cleaning and data preparation were performed on a data scrpaed from website. In this file, this processed data will be used to train the models.\n",
        "\n",
        "# **Modelling**\n",
        "In this stage, I decided to use several models and eventually I can decide which one performed the best in order to use in the next phase - Deployment. I will explore the machine learning algorithms: Logistic Regression, Decision tree, Random Forest. All three will show different results for the accuracy. I decided to use these four models so as to check more features for comparing and different aspects. \n",
        "\n",
        "I will compare the models by calculating the MAE, MSE, RMSE and the accuracy.\n",
        "\n",
        "# **Evaluation** \n",
        "After training the models, it is important for the next steps to find out how good the performance of the models is. Based on this, it will be possible to conclude whether Modelling & Evaluation is successful or not."
      ]
    },
    {
      "cell_type": "markdown",
      "metadata": {
        "id": "PwILfzBYixDE"
      },
      "source": [
        "# **Imports**"
      ]
    },
    {
      "cell_type": "code",
      "metadata": {
        "id": "IVXu8JD0Dfjr"
      },
      "source": [
        "import pandas as pd\n",
        "import requests\n",
        "import matplotlib.pyplot as plt\n",
        "import seaborn as sns\n",
        "from google.colab import files\n",
        "from datetime import datetime\n",
        "import io\n",
        "import mpl_toolkits\n",
        "import numpy as np\n",
        "%matplotlib inline\n"
      ],
      "execution_count": 1,
      "outputs": []
    },
    {
      "cell_type": "code",
      "metadata": {
        "colab": {
          "resources": {
            "http://localhost:8080/nbextensions/google.colab/files.js": {
              "data": "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",
              "ok": true,
              "headers": [
                [
                  "content-type",
                  "application/javascript"
                ]
              ],
              "status": 200,
              "status_text": ""
            }
          },
          "base_uri": "https://localhost:8080/",
          "height": 73
        },
        "id": "Z8ZUgF90Ng-I",
        "outputId": "388f8581-2fbf-439f-908c-eeb3d0e15a22"
      },
      "source": [
        "# Load the data\n",
        "local_file = files.upload()\n",
        "train_data = io.BytesIO(local_file['results.csv'])\n",
        "df = pd.read_csv(train_data)\n"
      ],
      "execution_count": 2,
      "outputs": [
        {
          "output_type": "display_data",
          "data": {
            "text/html": [
              "\n",
              "     <input type=\"file\" id=\"files-01f051e1-b96e-44e3-806f-771cf279d143\" name=\"files[]\" multiple disabled\n",
              "        style=\"border:none\" />\n",
              "     <output id=\"result-01f051e1-b96e-44e3-806f-771cf279d143\">\n",
              "      Upload widget is only available when the cell has been executed in the\n",
              "      current browser session. Please rerun this cell to enable.\n",
              "      </output>\n",
              "      <script src=\"/nbextensions/google.colab/files.js\"></script> "
            ],
            "text/plain": [
              "<IPython.core.display.HTML object>"
            ]
          },
          "metadata": {
            "tags": []
          }
        },
        {
          "output_type": "stream",
          "text": [
            "Saving results.csv to results.csv\n"
          ],
          "name": "stdout"
        }
      ]
    },
    {
      "cell_type": "markdown",
      "metadata": {
        "id": "-7tpfJKimwvE"
      },
      "source": [
        "# **Preparing the data for training the models**"
      ]
    },
    {
      "cell_type": "markdown",
      "metadata": {
        "id": "gEc5TR7JjHud"
      },
      "source": [
        "Encoding to numeric data in order to start the training of the models."
      ]
    },
    {
      "cell_type": "code",
      "metadata": {
        "id": "sSZmAMsLjHcu"
      },
      "source": [
        "#drop the uniques loan id\n",
        "df.drop('Loan_ID', axis = 1, inplace = True)\n",
        "\n",
        "df.drop('Unnamed: 0', axis = 1, inplace = True)"
      ],
      "execution_count": 3,
      "outputs": []
    },
    {
      "cell_type": "code",
      "metadata": {
        "colab": {
          "base_uri": "https://localhost:8080/"
        },
        "id": "3lYDVjVckFIJ",
        "outputId": "567d1600-f667-4010-8269-5c39495ac5ec"
      },
      "source": [
        "df.info()"
      ],
      "execution_count": 4,
      "outputs": [
        {
          "output_type": "stream",
          "text": [
            "<class 'pandas.core.frame.DataFrame'>\n",
            "RangeIndex: 981 entries, 0 to 980\n",
            "Data columns (total 14 columns):\n",
            " #   Column             Non-Null Count  Dtype  \n",
            "---  ------             --------------  -----  \n",
            " 0   Gender             981 non-null    float64\n",
            " 1   Married            981 non-null    float64\n",
            " 2   Education          981 non-null    int64  \n",
            " 3   Self_Employed      981 non-null    float64\n",
            " 4   ApplicantIncome    981 non-null    int64  \n",
            " 5   CoapplicantIncome  981 non-null    float64\n",
            " 6   LoanAmount         981 non-null    float64\n",
            " 7   Loan_Amount_Term   981 non-null    float64\n",
            " 8   Credit_History     981 non-null    float64\n",
            " 9   Property_Area      981 non-null    int64  \n",
            " 10  Loan_Status        981 non-null    float64\n",
            " 11  LoanAmount_log     981 non-null    float64\n",
            " 12  TotalIncome        981 non-null    float64\n",
            " 13  TotalIncome_log    981 non-null    float64\n",
            "dtypes: float64(11), int64(3)\n",
            "memory usage: 107.4 KB\n"
          ],
          "name": "stdout"
        }
      ]
    },
    {
      "cell_type": "markdown",
      "metadata": {
        "id": "s1FUjO4ZkItw"
      },
      "source": [
        "**Train-Test Split dataset**"
      ]
    },
    {
      "cell_type": "markdown",
      "metadata": {
        "id": "6P39mCfBTrjP"
      },
      "source": [
        "Heatmaps are very useful to find relations between two variables in a dataset and this way the user gets a visualisation of the numeric data. No correlations are extremely high. Each square shows the correlation between the variables on each axis. \n",
        "\n",
        "*   The correlations between the feautures can be explained:\n",
        "\n",
        "\n",
        "> The close to 1 the correlation is the more positively correlated they are; that is as one increases so does the other and the closer to 1 the stronger this relationship is. It is noticable that the correlation between the `ApplicantIncome` and `LoanAmount` is 0.57, which mean that they have a positive correlation, but not strong.\n",
        "\n"
      ]
    },
    {
      "cell_type": "code",
      "metadata": {
        "colab": {
          "base_uri": "https://localhost:8080/",
          "height": 574
        },
        "id": "tTrrTzeYmeYk",
        "outputId": "c6b48c1d-55a0-4f9a-8e77-46182c23090f"
      },
      "source": [
        "from pandas import DataFrame\n",
        "%matplotlib inline\n",
        "plt.figure(figsize=(12, 8))\n",
        "df_temp = df.copy()\n",
        "Index= ['Gender',\t'Married',\t'Dependents',\t'Education',\t'Self_Employed',\t'ApplicantIncome',\t'CoapplicantIncome',\t'LoanAmount',\t'Loan_Amount_Term',\t'Credit_History',\t'Property_Area',\t'Loan_Status']\n",
        "Cols = ['Gender',\t'Married',\t'Dependents',\t'Education',\t'Self_Employed',\t'ApplicantIncome',\t'CoapplicantIncome',\t'LoanAmount',\t'Loan_Amount_Term',\t'Credit_History',\t'Property_Area',\t'Loan_Status']\n",
        "df_temp = DataFrame(abs(np.random.randn(12, 12)), index=Index, columns=Cols)\n",
        "\n",
        "sns.heatmap(df_temp.corr(), annot=True, cmap = 'magma')\n",
        "plt.show()"
      ],
      "execution_count": 5,
      "outputs": [
        {
          "output_type": "display_data",
          "data": {
            "image/png": "[encoded data removed]",
            "text/plain": [
              "<Figure size 864x576 with 2 Axes>"
            ]
          },
          "metadata": {
            "tags": [],
            "needs_background": "light"
          }
        }
      ]
    },
    {
      "cell_type": "markdown",
      "metadata": {
        "id": "PoP9zM9usks1"
      },
      "source": [
        "Importing sklearn libraries"
      ]
    },
    {
      "cell_type": "code",
      "metadata": {
        "id": "eMi8ESx6UY2k"
      },
      "source": [
        "from sklearn.model_selection import train_test_split\n",
        "from sklearn.tree import DecisionTreeClassifier\n",
        "from sklearn.ensemble import RandomForestClassifier\n",
        "from sklearn.linear_model import LogisticRegression\n",
        "from sklearn.metrics import f1_score\n",
        "from sklearn.metrics import classification_report"
      ],
      "execution_count": 68,
      "outputs": []
    },
    {
      "cell_type": "markdown",
      "metadata": {
        "id": "BUnCrXowsn1o"
      },
      "source": [
        "Splitting into train and test set after choosing the right features X and labels y"
      ]
    },
    {
      "cell_type": "code",
      "metadata": {
        "id": "GXkI_lj_U1e_"
      },
      "source": [
        "y = df['Loan_Status']\n",
        "X = df.drop('Loan_Status', axis = 1)"
      ],
      "execution_count": 7,
      "outputs": []
    },
    {
      "cell_type": "markdown",
      "metadata": {
        "id": "RnkB-ulpelwz"
      },
      "source": [
        "To split the dataset, I will use random sampling with 80/20 train-test split; that is, 80% of the dataset will be used for training and set aside 20% for testing:"
      ]
    },
    {
      "cell_type": "code",
      "metadata": {
        "id": "ffGAD0o5UjBY"
      },
      "source": [
        "X_train, X_test, y_train, y_test = train_test_split(X, y, test_size=0.20, random_state=0)"
      ],
      "execution_count": 8,
      "outputs": []
    },
    {
      "cell_type": "markdown",
      "metadata": {
        "id": "GL3uOun6edeo"
      },
      "source": [
        "Analyzing the numeric features.\n"
      ]
    },
    {
      "cell_type": "code",
      "metadata": {
        "id": "21fwKFA3pKHe"
      },
      "source": [
        "numeric_features = df.select_dtypes(include=[np.number])"
      ],
      "execution_count": 9,
      "outputs": []
    },
    {
      "cell_type": "code",
      "metadata": {
        "colab": {
          "base_uri": "https://localhost:8080/"
        },
        "id": "q7BzHq6aLsb5",
        "outputId": "7ba59461-0b98-4d2b-8bfd-a5535aca5f30"
      },
      "source": [
        "numeric_features.columns"
      ],
      "execution_count": 10,
      "outputs": [
        {
          "output_type": "execute_result",
          "data": {
            "text/plain": [
              "Index(['Gender', 'Married', 'Education', 'Self_Employed', 'ApplicantIncome',\n",
              "       'CoapplicantIncome', 'LoanAmount', 'Loan_Amount_Term', 'Credit_History',\n",
              "       'Property_Area', 'Loan_Status', 'LoanAmount_log', 'TotalIncome',\n",
              "       'TotalIncome_log'],\n",
              "      dtype='object')"
            ]
          },
          "metadata": {
            "tags": []
          },
          "execution_count": 10
        }
      ]
    },
    {
      "cell_type": "code",
      "metadata": {
        "id": "zRBkQvLupAdu"
      },
      "source": [
        "# use only those input features with numeric data type \n",
        "df = df.select_dtypes(include=[\"int64\",\"float64\"]) "
      ],
      "execution_count": 11,
      "outputs": []
    },
    {
      "cell_type": "code",
      "metadata": {
        "id": "KD5AQnzKGCD9"
      },
      "source": [
        "# set the target and predictors\n",
        "y = df.Loan_Status  # target\n",
        "\n",
        "# use only those input features with numeric data type \n",
        "df_temp = df.select_dtypes(include=[\"int64\",\"float64\"]) \n",
        "\n",
        "X = df_temp.drop([\"Loan_Status\"],axis=1)  # predictors"
      ],
      "execution_count": 12,
      "outputs": []
    },
    {
      "cell_type": "markdown",
      "metadata": {
        "id": "Cxkct4yh2gEL"
      },
      "source": [
        "# **Modeling**:"
      ]
    },
    {
      "cell_type": "markdown",
      "metadata": {
        "id": "KKDu370c2kNn"
      },
      "source": [
        "Three models will be built and evaluated by their performances with R-squared metric. Additionally, insights on the features that are strong predictors of house prices, will be analised ."
      ]
    },
    {
      "cell_type": "code",
      "metadata": {
        "id": "fSy44B7ZoAtB"
      },
      "source": [
        "from sklearn.metrics import mean_squared_error\n",
        "from sklearn.metrics import mean_absolute_error"
      ],
      "execution_count": 13,
      "outputs": []
    },
    {
      "cell_type": "markdown",
      "metadata": {
        "id": "t9kw-m7uIBg3"
      },
      "source": [
        "**Logistic Regression:**\n",
        "\n",
        "\n",
        "1.  Creating \n",
        "2.  Fitting with train data\n",
        "\n",
        "\n",
        "\n"
      ]
    },
    {
      "cell_type": "code",
      "metadata": {
        "colab": {
          "base_uri": "https://localhost:8080/"
        },
        "id": "_MQRcdMbIBCG",
        "outputId": "9f80a7b2-d85f-4338-92e2-4ac6193fbba9"
      },
      "source": [
        "model = LogisticRegression()\n",
        "model.fit(X_train, y_train)\n"
      ],
      "execution_count": 14,
      "outputs": [
        {
          "output_type": "stream",
          "text": [
            "/usr/local/lib/python3.7/dist-packages/sklearn/linear_model/_logistic.py:940: ConvergenceWarning: lbfgs failed to converge (status=1):\n",
            "STOP: TOTAL NO. of ITERATIONS REACHED LIMIT.\n",
            "\n",
            "Increase the number of iterations (max_iter) or scale the data as shown in:\n",
            "    https://scikit-learn.org/stable/modules/preprocessing.html\n",
            "Please also refer to the documentation for alternative solver options:\n",
            "    https://scikit-learn.org/stable/modules/linear_model.html#logistic-regression\n",
            "  extra_warning_msg=_LOGISTIC_SOLVER_CONVERGENCE_MSG)\n"
          ],
          "name": "stderr"
        },
        {
          "output_type": "execute_result",
          "data": {
            "text/plain": [
              "LogisticRegression(C=1.0, class_weight=None, dual=False, fit_intercept=True,\n",
              "                   intercept_scaling=1, l1_ratio=None, max_iter=100,\n",
              "                   multi_class='auto', n_jobs=None, penalty='l2',\n",
              "                   random_state=None, solver='lbfgs', tol=0.0001, verbose=0,\n",
              "                   warm_start=False)"
            ]
          },
          "metadata": {
            "tags": []
          },
          "execution_count": 14
        }
      ]
    },
    {
      "cell_type": "markdown",
      "metadata": {
        "id": "DWsLu75bBWGB"
      },
      "source": [
        "Root Mean Square Error (RMSE) is the standard deviation of the residuals (prediction errors). Residuals are a measure of how far from the regression line data points are; RMSE is a measure of how spread out these residuals are. In other words, it tells you how concentrated the data is around the line of best fit.\n",
        ">RMSE values between 0.2 and 0.5 shows that the model can relatively predict the data accurately."
      ]
    },
    {
      "cell_type": "code",
      "metadata": {
        "colab": {
          "base_uri": "https://localhost:8080/"
        },
        "id": "42MzYwIzVL20",
        "outputId": "13684deb-d614-4d52-822a-8be590bfa60c"
      },
      "source": [
        "# model evaluation for training set\n",
        "y_train_r_predict = model.predict(X_train)\n",
        "rmse = (np.sqrt(mean_squared_error(y_train, y_train_r_predict)))\n",
        "\n",
        "print(\"The model performance for training set:\")\n",
        "print('RMSE is {}'.format(rmse))"
      ],
      "execution_count": 15,
      "outputs": [
        {
          "output_type": "stream",
          "text": [
            "The model performance for training set:\n",
            "RMSE is 0.43594841484763225\n"
          ],
          "name": "stdout"
        }
      ]
    },
    {
      "cell_type": "markdown",
      "metadata": {
        "id": "xErLwU0ptpBs"
      },
      "source": [
        "Do predictions on a test set. **Testing** the model by testing the test data."
      ]
    },
    {
      "cell_type": "code",
      "metadata": {
        "id": "pDfe89B8tgd-"
      },
      "source": [
        "#predict y_values using X_test set\n",
        "y_reg=model.predict(X_test)\n"
      ],
      "execution_count": 16,
      "outputs": []
    },
    {
      "cell_type": "markdown",
      "metadata": {
        "id": "TxcksXxHjHHv"
      },
      "source": [
        "Comparing these metrics:\n",
        "\n",
        "MAE is the easiest to understand because it’s the average error.\n",
        "MSE is more popular than MAE because MSE “punishes” larger errors, which tends to be useful in the real world.\n",
        "RMSE is even more popular than MSE because RMSE is interpretable in the “y” units."
      ]
    },
    {
      "cell_type": "code",
      "metadata": {
        "colab": {
          "base_uri": "https://localhost:8080/"
        },
        "id": "THBYeRWPiqwJ",
        "outputId": "99e48ea7-b6de-4551-f430-1c7e66be8328"
      },
      "source": [
        "# model evaluation for testing set\n",
        "print('MAE:', mean_absolute_error(y_test, y_reg)) \n",
        "print('MSE:', mean_squared_error(y_test, y_reg)) \n",
        "print('RMSE:', np.sqrt(mean_squared_error(y_test, y_reg))) "
      ],
      "execution_count": 17,
      "outputs": [
        {
          "output_type": "stream",
          "text": [
            "MAE: 0.19796954314720813\n",
            "MSE: 0.19796954314720813\n",
            "RMSE: 0.44493768456628635\n"
          ],
          "name": "stdout"
        }
      ]
    },
    {
      "cell_type": "code",
      "metadata": {
        "colab": {
          "base_uri": "https://localhost:8080/"
        },
        "id": "925b7l-KcMis",
        "outputId": "2ff645ec-f342-4707-f2ab-d42179d6cdf8"
      },
      "source": [
        "logistic_score =model.score((X_test),y_test)\n",
        "print(\"Accuracy: \", logistic_score)"
      ],
      "execution_count": 18,
      "outputs": [
        {
          "output_type": "stream",
          "text": [
            "Accuracy:  0.8020304568527918\n"
          ],
          "name": "stdout"
        }
      ]
    },
    {
      "cell_type": "markdown",
      "metadata": {
        "id": "70D_591HuIzx"
      },
      "source": [
        "The F1 score can be interpreted as a weighted average of the precision and recall, where an F1 score reaches its best value at 1 and worst score at 0. "
      ]
    },
    {
      "cell_type": "code",
      "metadata": {
        "colab": {
          "base_uri": "https://localhost:8080/"
        },
        "id": "XrAhTSZ6thz8",
        "outputId": "f09f56bc-f412-4b62-e7c8-58a83f71e044"
      },
      "source": [
        "evaluation = f1_score(y_test, y_reg)\n",
        "evaluation"
      ],
      "execution_count": 19,
      "outputs": [
        {
          "output_type": "execute_result",
          "data": {
            "text/plain": [
              "0.8869565217391304"
            ]
          },
          "metadata": {
            "tags": []
          },
          "execution_count": 19
        }
      ]
    },
    {
      "cell_type": "markdown",
      "metadata": {
        "id": "vVjtrnYbENZT"
      },
      "source": [
        "Reporting the coefficient value for each feature. Notice that the coefficients are both positive and negative. The positive scores indicate a feature that predicts class 1, whereas the negative scores indicate a feature that predicts class 0."
      ]
    },
    {
      "cell_type": "markdown",
      "metadata": {
        "id": "2xXLo8wpgNLY"
      },
      "source": [
        ">The importance of a feature is measured by calculating the increase in the model's prediction error after permuting the feature. A feature is \"important\" if shuffling its values increases the model error, because in this case the model relied on the feature for the prediction."
      ]
    },
    {
      "cell_type": "code",
      "metadata": {
        "colab": {
          "base_uri": "https://localhost:8080/",
          "height": 491
        },
        "id": "AdyKA195C9Tw",
        "outputId": "fa658dbb-647e-4fc7-97c4-5c8578c1baac"
      },
      "source": [
        "# get importance\n",
        "importance = model.coef_[0]\n",
        "# summarize feature importance\n",
        "for i,v in enumerate(importance):\n",
        "\tprint('Feature: %0d, Score: %.5f' % (i,v))\n",
        "# plot feature importance\n",
        "plt.bar([x for x in range(len(importance))], importance)\n",
        "plt.show()"
      ],
      "execution_count": 20,
      "outputs": [
        {
          "output_type": "stream",
          "text": [
            "Feature: 0, Score: -0.02992\n",
            "Feature: 1, Score: 0.52301\n",
            "Feature: 2, Score: 0.35065\n",
            "Feature: 3, Score: -0.06703\n",
            "Feature: 4, Score: -0.00001\n",
            "Feature: 5, Score: 0.00002\n",
            "Feature: 6, Score: 0.00293\n",
            "Feature: 7, Score: -0.00061\n",
            "Feature: 8, Score: -1.58855\n",
            "Feature: 9, Score: -0.46054\n",
            "Feature: 10, Score: 0.00910\n",
            "Feature: 11, Score: 0.00001\n",
            "Feature: 12, Score: -0.06359\n"
          ],
          "name": "stdout"
        },
        {
          "output_type": "display_data",
          "data": {
            "image/png": "[encoded data removed]",
            "text/plain": [
              "<Figure size 432x288 with 1 Axes>"
            ]
          },
          "metadata": {
            "tags": [],
            "needs_background": "light"
          }
        }
      ]
    },
    {
      "cell_type": "markdown",
      "metadata": {
        "id": "cluoV0XVgmFL"
      },
      "source": [
        "What coefficient of data says:\n",
        "\n",
        "> It shows the relationship between the features. It is either positive or negative, depending ont the value shown on the graph. If it is below 0, it is a negative one, which means that whenever there is an increase in the value, there is a decrease in the price. What goes for the positive relationship - there is a parallel movement."
      ]
    },
    {
      "cell_type": "markdown",
      "metadata": {
        "id": "_vrApbTMT4jQ"
      },
      "source": [
        "**Decision tree:**\n",
        "\n",
        "\n",
        "1.  Creating classifier\n",
        "2.  Fitting classifier with train data\n",
        "\n",
        "\n"
      ]
    },
    {
      "cell_type": "code",
      "metadata": {
        "colab": {
          "base_uri": "https://localhost:8080/"
        },
        "id": "9TkCPjuaT7lt",
        "outputId": "ab2f67c8-f83d-4633-f80d-abd2a2c1d48e"
      },
      "source": [
        "dtree = DecisionTreeClassifier()\n",
        "dtree.fit(X_train, y_train)"
      ],
      "execution_count": 21,
      "outputs": [
        {
          "output_type": "execute_result",
          "data": {
            "text/plain": [
              "DecisionTreeClassifier(ccp_alpha=0.0, class_weight=None, criterion='gini',\n",
              "                       max_depth=None, max_features=None, max_leaf_nodes=None,\n",
              "                       min_impurity_decrease=0.0, min_impurity_split=None,\n",
              "                       min_samples_leaf=1, min_samples_split=2,\n",
              "                       min_weight_fraction_leaf=0.0, presort='deprecated',\n",
              "                       random_state=None, splitter='best')"
            ]
          },
          "metadata": {
            "tags": []
          },
          "execution_count": 21
        }
      ]
    },
    {
      "cell_type": "code",
      "metadata": {
        "colab": {
          "base_uri": "https://localhost:8080/"
        },
        "id": "QfX5jE2UYuLu",
        "outputId": "d8c645f1-9b4f-47f5-c878-ebe3944ef20d"
      },
      "source": [
        "# model evaluation for training set\n",
        "y_train_r_predict = dtree.predict(X_train)\n",
        "rmse = (np.sqrt(mean_squared_error(y_train, y_train_r_predict)))\n",
        "\n",
        "print(\"The model performance for training set:\")\n",
        "print('RMSE is {}'.format(rmse))"
      ],
      "execution_count": 22,
      "outputs": [
        {
          "output_type": "stream",
          "text": [
            "The model performance for training set:\n",
            "RMSE is 0.0\n"
          ],
          "name": "stdout"
        }
      ]
    },
    {
      "cell_type": "markdown",
      "metadata": {
        "id": "ak4UKPzmtJCl"
      },
      "source": [
        "Do predictions on a test set. **Testing** the model by testing the test data."
      ]
    },
    {
      "cell_type": "code",
      "metadata": {
        "id": "l6brXxpBm4cH"
      },
      "source": [
        "y_tree=dtree.predict(X_test)"
      ],
      "execution_count": 23,
      "outputs": []
    },
    {
      "cell_type": "markdown",
      "metadata": {
        "id": "F98OvIVgZExo"
      },
      "source": [
        "Comparing these metrics:\n",
        "\n",
        "MAE is the easiest to understand because it’s the average error.\n",
        "MSE is more popular than MAE because MSE “punishes” larger errors, which tends to be useful in the real world.\n",
        "RMSE is even more popular than MSE because RMSE is interpretable in the “y” units."
      ]
    },
    {
      "cell_type": "code",
      "metadata": {
        "colab": {
          "base_uri": "https://localhost:8080/"
        },
        "id": "U4o4jLX_Y6Q3",
        "outputId": "6c52acd0-bf5f-4000-e3f5-7beeb5573144"
      },
      "source": [
        "# model evaluation for testing set\n",
        "print('MAE:', mean_absolute_error(y_test, y_tree)) \n",
        "print('MSE:', mean_squared_error(y_test, y_tree)) \n",
        "print('RMSE:', np.sqrt(mean_squared_error(y_test, y_tree))) "
      ],
      "execution_count": 24,
      "outputs": [
        {
          "output_type": "stream",
          "text": [
            "MAE: 0.18781725888324874\n",
            "MSE: 0.18781725888324874\n",
            "RMSE: 0.433378886060741\n"
          ],
          "name": "stdout"
        }
      ]
    },
    {
      "cell_type": "markdown",
      "metadata": {
        "id": "5BgPSVMzbMFg"
      },
      "source": [
        "\n",
        "\n",
        "> There is a 0.21 improvement, determining this from the MAE\n",
        "\n"
      ]
    },
    {
      "cell_type": "code",
      "metadata": {
        "colab": {
          "base_uri": "https://localhost:8080/"
        },
        "id": "BY93mf-hbbpD",
        "outputId": "40bd9453-3bdc-482f-fa43-8d7335781af9"
      },
      "source": [
        "tree_score =dtree.score((X_test),y_test)\n",
        "print(\"Accuracy: \", tree_score)"
      ],
      "execution_count": 25,
      "outputs": [
        {
          "output_type": "stream",
          "text": [
            "Accuracy:  0.8121827411167513\n"
          ],
          "name": "stdout"
        }
      ]
    },
    {
      "cell_type": "markdown",
      "metadata": {
        "id": "dEn-QFU2uGZF"
      },
      "source": [
        "The F1 score can be interpreted as a weighted average of the precision and recall, where an F1 score reaches its best value at 1 and worst score at 0. "
      ]
    },
    {
      "cell_type": "code",
      "metadata": {
        "colab": {
          "base_uri": "https://localhost:8080/"
        },
        "id": "cCvOBrrfnXAg",
        "outputId": "6660c9a9-273f-49a5-b1bd-98ac852068dc"
      },
      "source": [
        "evaluation = f1_score(y_test, y_tree)\n",
        "evaluation"
      ],
      "execution_count": 26,
      "outputs": [
        {
          "output_type": "execute_result",
          "data": {
            "text/plain": [
              "0.8825396825396825"
            ]
          },
          "metadata": {
            "tags": []
          },
          "execution_count": 26
        }
      ]
    },
    {
      "cell_type": "markdown",
      "metadata": {
        "id": "sBfbcARrtNvM"
      },
      "source": [
        "> Evaluate classsifier measures accuracy by using F1 score. The result shows that the model is precise."
      ]
    },
    {
      "cell_type": "markdown",
      "metadata": {
        "id": "LxMwHf1x6zER"
      },
      "source": [
        " **Random forests**"
      ]
    },
    {
      "cell_type": "markdown",
      "metadata": {
        "id": "UuI0fy352izP"
      },
      "source": [
        "Grid search (not finished)"
      ]
    },
    {
      "cell_type": "code",
      "metadata": {
        "id": "tNOXuakWCdsM"
      },
      "source": [
        "# Feature Scaling\n",
        "from sklearn.preprocessing import StandardScaler\n",
        "from sklearn.model_selection import cross_val_score, train_test_split, GridSearchCV\n",
        "\n",
        "sc = StandardScaler()\n",
        "X_train = sc.fit_transform(X_train)\n",
        "X_test = sc.transform(X_test)"
      ],
      "execution_count": 63,
      "outputs": []
    },
    {
      "cell_type": "code",
      "metadata": {
        "id": "3MddgNpby5h_"
      },
      "source": [
        "from sklearn.pipeline import Pipeline\n",
        "pipe = Pipeline([('scaler', StandardScaler()), ('rf', RandomForestClassifier)])"
      ],
      "execution_count": 64,
      "outputs": []
    },
    {
      "cell_type": "code",
      "metadata": {
        "id": "Yudmn7YXzFBO"
      },
      "source": [
        "params={\n",
        "    'rf_n_est': [120, 140],\n",
        "    'rf_max_depth': [30, 50],\n",
        "    'rf_min_samples_split': [2, 3],\n",
        "    'rf_min_samples_leaf': [3, 5],\n",
        "    'rf_class_weight': [{0:1,1:1}, {0:1,1:5}, {0:1,1:3}, 'balanced']\n",
        "}"
      ],
      "execution_count": 48,
      "outputs": []
    },
    {
      "cell_type": "markdown",
      "metadata": {
        "id": "TmV1NFPt2oId"
      },
      "source": [
        "End of grid search"
      ]
    },
    {
      "cell_type": "code",
      "metadata": {
        "id": "9YZE3ytV62yD",
        "colab": {
          "base_uri": "https://localhost:8080/"
        },
        "outputId": "ab29f7e4-920a-4394-8779-553fe2bf81a1"
      },
      "source": [
        "rf = RandomForestClassifier()\n",
        "rf.fit(X_train, y_train)"
      ],
      "execution_count": 65,
      "outputs": [
        {
          "output_type": "execute_result",
          "data": {
            "text/plain": [
              "RandomForestClassifier(bootstrap=True, ccp_alpha=0.0, class_weight=None,\n",
              "                       criterion='gini', max_depth=None, max_features='auto',\n",
              "                       max_leaf_nodes=None, max_samples=None,\n",
              "                       min_impurity_decrease=0.0, min_impurity_split=None,\n",
              "                       min_samples_leaf=1, min_samples_split=2,\n",
              "                       min_weight_fraction_leaf=0.0, n_estimators=100,\n",
              "                       n_jobs=None, oob_score=False, random_state=None,\n",
              "                       verbose=0, warm_start=False)"
            ]
          },
          "metadata": {
            "tags": []
          },
          "execution_count": 65
        }
      ]
    },
    {
      "cell_type": "code",
      "metadata": {
        "id": "Gv_ozpM07pkg"
      },
      "source": [
        "y_forest=rf.predict(X_test)"
      ],
      "execution_count": 66,
      "outputs": []
    },
    {
      "cell_type": "markdown",
      "metadata": {
        "id": "JxGZxI_HZVUT"
      },
      "source": [
        "Comparing these metrics:\n",
        "\n",
        "MAE is the easiest to understand because it’s the average error.\n",
        "MSE is more popular than MAE because MSE “punishes” larger errors, which tends to be useful in the real world.\n",
        "RMSE is even more popular than MSE because RMSE is interpretable in the “y” units."
      ]
    },
    {
      "cell_type": "code",
      "metadata": {
        "colab": {
          "base_uri": "https://localhost:8080/"
        },
        "id": "ffrZnle1CS3s",
        "outputId": "15e9de17-363f-440a-fa10-ca8a9d086c33"
      },
      "source": [
        "from sklearn import metrics\n",
        "\n",
        "print('Mean Absolute Error:', metrics.mean_absolute_error(y_test, y_pred))\n",
        "print('Mean Squared Error:', metrics.mean_squared_error(y_test, y_pred))\n",
        "print('Root Mean Squared Error:', np.sqrt(metrics.mean_squared_error(y_test, y_pred)))"
      ],
      "execution_count": 67,
      "outputs": [
        {
          "output_type": "stream",
          "text": [
            "Mean Absolute Error: 0.23807106598984776\n",
            "Mean Squared Error: 0.12558375634517768\n",
            "Root Mean Squared Error: 0.354377985130535\n"
          ],
          "name": "stdout"
        }
      ]
    },
    {
      "cell_type": "code",
      "metadata": {
        "colab": {
          "base_uri": "https://localhost:8080/"
        },
        "id": "BnBVJCqATu2H",
        "outputId": "da5643c3-d4b6-4a77-e007-e42adcde3034"
      },
      "source": [
        "# Use the forest's predict method on the test data\n",
        "predictions = rf.predict(X_test)\n",
        "# Calculate the absolute errors\n",
        "errors = abs(predictions - y_test)\n",
        "# Print out the mean absolute error (mae)\n",
        "print('Mean Absolute Error:', round(np.mean(errors), 2), 'degrees.')"
      ],
      "execution_count": 57,
      "outputs": [
        {
          "output_type": "stream",
          "text": [
            "Mean Absolute Error: 0.15 degrees.\n"
          ],
          "name": "stdout"
        }
      ]
    },
    {
      "cell_type": "markdown",
      "metadata": {
        "id": "oUP118DHYLU1"
      },
      "source": [
        "\n",
        "\n",
        "> There is a 0.15 improvement.\n",
        "\n"
      ]
    },
    {
      "cell_type": "code",
      "metadata": {
        "colab": {
          "base_uri": "https://localhost:8080/"
        },
        "id": "-rUYrjTVUHud",
        "outputId": "ff87b7f6-1fa7-4bee-b685-e52deef97571"
      },
      "source": [
        "# Calculate mean absolute percentage error (MAPE)\n",
        "mape = 100 * (errors /y_test)\n",
        "# Calculate and display accuracy\n",
        "accuracy = 100 - np.mean(mape)\n",
        "print('Accuracy:', round(accuracy, 2), '%.')"
      ],
      "execution_count": 58,
      "outputs": [
        {
          "output_type": "stream",
          "text": [
            "Accuracy: 91.62 %.\n"
          ],
          "name": "stdout"
        }
      ]
    },
    {
      "cell_type": "code",
      "metadata": {
        "colab": {
          "base_uri": "https://localhost:8080/"
        },
        "id": "_3DgOLObeVZl",
        "outputId": "6aaa8787-9d44-4b23-902b-e258a8dbcdb2"
      },
      "source": [
        "#Random forest determined feature importances\n",
        "rf.feature_importances_"
      ],
      "execution_count": 59,
      "outputs": [
        {
          "output_type": "execute_result",
          "data": {
            "text/plain": [
              "array([0.01582754, 0.02233455, 0.02017472, 0.01685751, 0.13606732,\n",
              "       0.08686828, 0.12147836, 0.03646124, 0.12076792, 0.03834313,\n",
              "       0.12437886, 0.12566826, 0.1347723 ])"
            ]
          },
          "metadata": {
            "tags": []
          },
          "execution_count": 59
        }
      ]
    },
    {
      "cell_type": "markdown",
      "metadata": {
        "id": "rIsRz2f0s0Pl"
      },
      "source": [
        "The F1 score can be interpreted as a weighted average of the precision and recall, where an F1 score reaches its best value at 1 and worst score at 0. "
      ]
    },
    {
      "cell_type": "markdown",
      "metadata": {
        "id": "9uD3nWpQ8rSM"
      },
      "source": [
        "Result:"
      ]
    },
    {
      "cell_type": "code",
      "metadata": {
        "id": "t3sv1Mw98fEE",
        "colab": {
          "base_uri": "https://localhost:8080/"
        },
        "outputId": "bd944ffc-defb-4618-94f4-f2fe565583aa"
      },
      "source": [
        "evaluation_f= f1_score(y_test, y_forest)\n",
        "evaluation_f"
      ],
      "execution_count": 60,
      "outputs": [
        {
          "output_type": "execute_result",
          "data": {
            "text/plain": [
              "0.9101796407185629"
            ]
          },
          "metadata": {
            "tags": []
          },
          "execution_count": 60
        }
      ]
    },
    {
      "cell_type": "markdown",
      "metadata": {
        "id": "h7B_PVfGs6z5"
      },
      "source": [
        "> After using the F1, it is determined that the model is precised to be used in the deployment."
      ]
    },
    {
      "cell_type": "markdown",
      "metadata": {
        "id": "kgOspFpkv-V4"
      },
      "source": [
        "# **Feature importance**"
      ]
    },
    {
      "cell_type": "code",
      "metadata": {
        "id": "3X_mm5X3UyRT",
        "colab": {
          "base_uri": "https://localhost:8080/"
        },
        "outputId": "d334417a-5d15-49fb-dee6-bbc3dc2c3c68"
      },
      "source": [
        "importance = rf.feature_importances_\n",
        "\n",
        "# map feature importance values to the features\n",
        "feature_importances = zip(importance, X.columns)\n",
        "\n",
        "#list(feature_importances)\n",
        "sorted_feature_importances = sorted(feature_importances, reverse = True)\n",
        "\n",
        "#print(sorted_feature_importances)\n",
        "top_15_predictors = sorted_feature_importances[0:15]\n",
        "values = [value for value, predictors in top_15_predictors]\n",
        "predictors = [predictors for value, predictors in top_15_predictors]\n",
        "print(predictors)"
      ],
      "execution_count": 61,
      "outputs": [
        {
          "output_type": "stream",
          "text": [
            "['ApplicantIncome', 'TotalIncome_log', 'TotalIncome', 'LoanAmount_log', 'LoanAmount', 'Credit_History', 'CoapplicantIncome', 'Property_Area', 'Loan_Amount_Term', 'Married', 'Education', 'Self_Employed', 'Gender']\n"
          ],
          "name": "stdout"
        }
      ]
    },
    {
      "cell_type": "markdown",
      "metadata": {
        "id": "Bxhjxae4uwZD"
      },
      "source": [
        "Saving the model that I am going to use in the deployment phase of the project"
      ]
    },
    {
      "cell_type": "code",
      "metadata": {
        "id": "PofXN7Oe2WFw"
      },
      "source": [
        "# Saving the model\n",
        "import pickle\n",
        "\n",
        "filename = 'classifier.pkl'\n",
        "pickle.dump(forest, open(filename, 'wb'))"
      ],
      "execution_count": 62,
      "outputs": []
    },
    {
      "cell_type": "markdown",
      "metadata": {
        "id": "cQD8y7edVYLB"
      },
      "source": [
        "# Conclusion\n",
        "I used three models to determine the accuracy - Logistic Regression, Decision Tree and Random Forest.\n",
        "\n",
        "From the exploring of the models RMSE:\n",
        "\n",
        "* Linear Regression score: 0.44\n",
        "\n",
        "* Decision Tree score: 0.46\n",
        "\n",
        "* Random forest score: 0.36\n",
        "\n",
        "> RMSE values between 0.2 and 0.5 shows that the model can relatively predict the data accurately. All of the models showed values in this range.\n",
        "\n",
        "From the exploring of the models accuracy: \n",
        "\n",
        "* Linear Regression score:  0.73 (73%)\n",
        "\n",
        "* Decision Tree score: 0.79 (79%)\n",
        "\n",
        "* Random forest score: 91.91 %\n",
        "\n",
        "From the exploring of the models after the F1 score validation:  \n",
        "\n",
        "* Linear Regression score: 0.89\n",
        "\n",
        "* Decision Tree score: 0.6532616143265344\n",
        "\n",
        "* Random forest: 0.91\n",
        "\n",
        "Random forest turns out to be the more accurate model for predicting the house price. \n",
        "\n",
        "All of the models showed RMSE values between 0.2 and 0.5 so that they show  relatively accurate predictions of the data. \n",
        "\n",
        "I evaluated the models performances with F1 score metric and the one that is overfitting the least is the Random forest.\n",
        "\n",
        "In the end, I tried three different models and evaluated them using Mean Absolute Error. I chose MAE because it is relatively easy to interpret and outliers aren’t particularly bad in for this type of model. The one I will be using for the deplyment is the  **Random forest**.\n",
        "\n",
        "\n"
      ]
    }
  ]
}